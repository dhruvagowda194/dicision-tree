{
 "cells": [
  {
   "cell_type": "code",
   "execution_count": 11,
   "id": "a56d6a66",
   "metadata": {},
   "outputs": [],
   "source": [
    "import pandas as pd"
   ]
  },
  {
   "cell_type": "code",
   "execution_count": 12,
   "id": "0bee5536",
   "metadata": {},
   "outputs": [],
   "source": [
    "data=pd.read_csv('Desktop\\\\Book2.csv')"
   ]
  },
  {
   "cell_type": "code",
   "execution_count": 13,
   "id": "4d800e2f",
   "metadata": {},
   "outputs": [
    {
     "data": {
      "text/html": [
       "<div>\n",
       "<style scoped>\n",
       "    .dataframe tbody tr th:only-of-type {\n",
       "        vertical-align: middle;\n",
       "    }\n",
       "\n",
       "    .dataframe tbody tr th {\n",
       "        vertical-align: top;\n",
       "    }\n",
       "\n",
       "    .dataframe thead th {\n",
       "        text-align: right;\n",
       "    }\n",
       "</style>\n",
       "<table border=\"1\" class=\"dataframe\">\n",
       "  <thead>\n",
       "    <tr style=\"text-align: right;\">\n",
       "      <th></th>\n",
       "      <th>age</th>\n",
       "      <th>experiances</th>\n",
       "      <th>rank</th>\n",
       "      <th>nationality</th>\n",
       "      <th>go</th>\n",
       "    </tr>\n",
       "  </thead>\n",
       "  <tbody>\n",
       "    <tr>\n",
       "      <th>0</th>\n",
       "      <td>25</td>\n",
       "      <td>3</td>\n",
       "      <td>2</td>\n",
       "      <td>india</td>\n",
       "      <td>yes</td>\n",
       "    </tr>\n",
       "    <tr>\n",
       "      <th>1</th>\n",
       "      <td>30</td>\n",
       "      <td>2</td>\n",
       "      <td>3</td>\n",
       "      <td>japan</td>\n",
       "      <td>no</td>\n",
       "    </tr>\n",
       "    <tr>\n",
       "      <th>2</th>\n",
       "      <td>28</td>\n",
       "      <td>5</td>\n",
       "      <td>4</td>\n",
       "      <td>usa</td>\n",
       "      <td>yes</td>\n",
       "    </tr>\n",
       "    <tr>\n",
       "      <th>3</th>\n",
       "      <td>40</td>\n",
       "      <td>4</td>\n",
       "      <td>5</td>\n",
       "      <td>astrelia</td>\n",
       "      <td>no</td>\n",
       "    </tr>\n",
       "    <tr>\n",
       "      <th>4</th>\n",
       "      <td>32</td>\n",
       "      <td>6</td>\n",
       "      <td>1</td>\n",
       "      <td>uk america</td>\n",
       "      <td>yes</td>\n",
       "    </tr>\n",
       "    <tr>\n",
       "      <th>5</th>\n",
       "      <td>26</td>\n",
       "      <td>10</td>\n",
       "      <td>8</td>\n",
       "      <td>south africa</td>\n",
       "      <td>yes</td>\n",
       "    </tr>\n",
       "    <tr>\n",
       "      <th>6</th>\n",
       "      <td>25</td>\n",
       "      <td>8</td>\n",
       "      <td>10</td>\n",
       "      <td>west indian</td>\n",
       "      <td>no</td>\n",
       "    </tr>\n",
       "    <tr>\n",
       "      <th>7</th>\n",
       "      <td>35</td>\n",
       "      <td>7</td>\n",
       "      <td>4</td>\n",
       "      <td>india</td>\n",
       "      <td>yes</td>\n",
       "    </tr>\n",
       "  </tbody>\n",
       "</table>\n",
       "</div>"
      ],
      "text/plain": [
       "   age  experiances  rank   nationality   go\n",
       "0   25            3     2         india  yes\n",
       "1   30            2     3         japan   no\n",
       "2   28            5     4           usa  yes\n",
       "3   40            4     5      astrelia   no\n",
       "4   32            6     1    uk america  yes\n",
       "5   26           10     8  south africa  yes\n",
       "6   25            8    10   west indian   no\n",
       "7   35            7     4         india  yes"
      ]
     },
     "execution_count": 13,
     "metadata": {},
     "output_type": "execute_result"
    }
   ],
   "source": [
    "data"
   ]
  },
  {
   "cell_type": "code",
   "execution_count": 14,
   "id": "9d2e4257",
   "metadata": {},
   "outputs": [
    {
     "name": "stdout",
     "output_type": "stream",
     "text": [
      "   age  experiances  rank  nationality  go\n",
      "0   25            3     2            0   1\n",
      "1   30            2     3            1   0\n",
      "2   28            5     4            2   1\n",
      "3   40            4     5            3   0\n",
      "4   32            6     1            4   1\n",
      "5   26           10     8            5   1\n",
      "6   25            8    10            6   0\n",
      "7   35            7     4            0   1\n"
     ]
    }
   ],
   "source": [
    "d ={'india':0,'japan':1,'usa':2,'astrelia':3,'uk america':4,'south africa':5,'west indian':6}\n",
    "data['nationality']=data['nationality'].map(d)\n",
    "d={'yes':1,'no':0}\n",
    "data['go']=data['go'].map(d)\n",
    "print(data)"
   ]
  },
  {
   "cell_type": "code",
   "execution_count": 15,
   "id": "66196526",
   "metadata": {},
   "outputs": [
    {
     "name": "stdout",
     "output_type": "stream",
     "text": [
      "   age  experiances  rank  nationality\n",
      "0   25            3     2            0\n",
      "1   30            2     3            1\n",
      "2   28            5     4            2\n",
      "3   40            4     5            3\n",
      "4   32            6     1            4\n",
      "5   26           10     8            5\n",
      "6   25            8    10            6\n",
      "7   35            7     4            0\n",
      "0    1\n",
      "1    0\n",
      "2    1\n",
      "3    0\n",
      "4    1\n",
      "5    1\n",
      "6    0\n",
      "7    1\n",
      "Name: go, dtype: int64\n"
     ]
    }
   ],
   "source": [
    "features=['age','experiances','rank','nationality',]\n",
    "x=data[features]\n",
    "y=data['go']\n",
    "print(x)\n",
    "print(y)"
   ]
  },
  {
   "cell_type": "code",
   "execution_count": 5,
   "id": "b4cc1e79",
   "metadata": {},
   "outputs": [
    {
     "data": {
      "text/plain": [
       "[Text(0.3333333333333333, 0.875, 'experiances <= 2.5\\ngini = 0.469\\nsamples = 8\\nvalue = [3, 5]'),\n",
       " Text(0.16666666666666666, 0.625, 'gini = 0.0\\nsamples = 1\\nvalue = [1, 0]'),\n",
       " Text(0.5, 0.625, 'rank <= 4.5\\ngini = 0.408\\nsamples = 7\\nvalue = [2, 5]'),\n",
       " Text(0.3333333333333333, 0.375, 'gini = 0.0\\nsamples = 4\\nvalue = [0, 4]'),\n",
       " Text(0.6666666666666666, 0.375, 'experiances <= 9.0\\ngini = 0.444\\nsamples = 3\\nvalue = [2, 1]'),\n",
       " Text(0.5, 0.125, 'gini = 0.0\\nsamples = 2\\nvalue = [2, 0]'),\n",
       " Text(0.8333333333333334, 0.125, 'gini = 0.0\\nsamples = 1\\nvalue = [0, 1]')]"
      ]
     },
     "execution_count": 5,
     "metadata": {},
     "output_type": "execute_result"
    },
    {
     "data": {
      "image/png": "[encoded data removed]",
      "text/plain": [
       "<Figure size 640x480 with 1 Axes>"
      ]
     },
     "metadata": {},
     "output_type": "display_data"
    }
   ],
   "source": [
    "import pandas as pd\n",
    "from sklearn import tree\n",
    "from sklearn.tree import DecisionTreeClassifier\n",
    "import matplotlib.pyplot as plt\n",
    "\n",
    "data=pd.read_csv('Desktop\\\\Book2.csv')\n",
    "\n",
    "d ={'india':0,'japan':1,'usa':2,'astrelia':3,'uk america':4,'south africa':5,'west indian':6}\n",
    "data['nationality']=data['nationality'].map(d)\n",
    "d={'yes':1,'no':0}\n",
    "data['go']=data['go'].map(d)\n",
    "\n",
    "features=['age','experiances','rank','nationality',]\n",
    "x=data[features]\n",
    "y=data['go'] \n",
    "\n",
    "dtree=DecisionTreeClassifier()\n",
    "dtree=dtree.fit(x,y)\n",
    "tree.plot_tree(dtree, feature_names=features)"
   ]
  },
  {
   "cell_type": "code",
   "execution_count": null,
   "id": "40185272",
   "metadata": {},
   "outputs": [],
   "source": []
  },
  {
   "cell_type": "code",
   "execution_count": null,
   "id": "0369fad7",
   "metadata": {},
   "outputs": [],
   "source": []
  }
 ],
 "metadata": {
  "kernelspec": {
   "display_name": "Python 3 (ipykernel)",
   "language": "python",
   "name": "python3"
  },
  "language_info": {
   "codemirror_mode": {
    "name": "ipython",
    "version": 3
   },
   "file_extension": ".py",
   "mimetype": "text/x-python",
   "name": "python",
   "nbconvert_exporter": "python",
   "pygments_lexer": "ipython3",
   "version": "3.9.13"
  }
 },
 "nbformat": 4,
 "nbformat_minor": 5
}
